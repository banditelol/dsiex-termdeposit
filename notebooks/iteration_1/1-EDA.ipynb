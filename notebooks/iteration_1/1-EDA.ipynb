{
 "cells": [
  {
   "cell_type": "markdown",
   "metadata": {},
   "source": [
    "# EDA\n",
    "\n",
    "EDA of the features and target\n",
    "\n",
    "# Goal\n",
    "\n",
    "Find patterns on the features for target\n",
    "\n",
    "# Plan\n",
    "\n",
    "Checklist what will be done on the notebook :\n",
    "\n",
    "    [ ] Get Data\n",
    "    [ ] Data Preparations\n",
    "    [ ] Features Summary\n",
    "    [ ] Features correlations to Target\n",
    "\n"
   ]
  },
  {
   "cell_type": "code",
   "execution_count": 1,
   "metadata": {},
   "outputs": [],
   "source": [
    "import yaml\n",
    "import pandas as pd\n",
    "import matplotlib.pyplot as plt\n",
    "import os\n",
    "import joblib\n",
    "import numpy as np"
   ]
  },
  {
   "cell_type": "code",
   "execution_count": 2,
   "metadata": {},
   "outputs": [],
   "source": [
    "with open(\"../../config.yaml\", \"r\") as f:\n",
    "    config = yaml.load(f, Loader=yaml.FullLoader)\n",
    "\n",
    "PATH_RAW = config['path']['raw']\n",
    "PATH_INTERIM = config['path']['interim']\n",
    "PATH_PROCESSED = config['path']['processed']\n",
    "PATH_MODEL = config['path']['artifact']+os.getcwd().split('\\\\')[-1]+'/'\n",
    "PATH_UDF = config['path']['udf']"
   ]
  },
  {
   "cell_type": "code",
   "execution_count": null,
   "metadata": {},
   "outputs": [],
   "source": []
  },
  {
   "cell_type": "markdown",
   "metadata": {},
   "source": [
    "## Get Data"
   ]
  },
  {
   "cell_type": "code",
   "execution_count": 51,
   "metadata": {},
   "outputs": [],
   "source": [
    "raw_trn = pd.read_csv(PATH_INTERIM+'data_trn_iter1.csv')"
   ]
  },
  {
   "cell_type": "code",
   "execution_count": 52,
   "metadata": {},
   "outputs": [],
   "source": [
    "data_train = raw_trn.sample(int(len(raw_trn)*0.85), random_state = 124)\n",
    "data_eval = raw_trn[~(raw_trn['ids'].isin(data_train['ids']))]"
   ]
  },
  {
   "cell_type": "code",
   "execution_count": 53,
   "metadata": {},
   "outputs": [
    {
     "data": {
      "text/plain": [
       "no     0.884396\n",
       "yes    0.115604\n",
       "Name: y, dtype: float64"
      ]
     },
     "execution_count": 53,
     "metadata": {},
     "output_type": "execute_result"
    }
   ],
   "source": [
    "## check target\n",
    "data_train['y'].value_counts(normalize = True)"
   ]
  },
  {
   "cell_type": "code",
   "execution_count": null,
   "metadata": {},
   "outputs": [],
   "source": []
  },
  {
   "cell_type": "markdown",
   "metadata": {},
   "source": [
    "## Data Preparation\n",
    "source : [link](https://www.kaggle.com/ldfreeman3/a-data-science-framework-to-achieve-99-accuracy#ch5)\n",
    "\n",
    "Creating\n",
    "Cleaning\n",
    "Combining\n",
    "Completing\n",
    "Creating\n",
    "Converting"
   ]
  },
  {
   "cell_type": "code",
   "execution_count": null,
   "metadata": {},
   "outputs": [],
   "source": []
  },
  {
   "cell_type": "code",
   "execution_count": 54,
   "metadata": {},
   "outputs": [],
   "source": [
    "## separate the columns\n",
    "col_num = ['age','balance','day',\n",
    "                      'duration','pdays']\n",
    "col_cat = ['job','contact','marital','default']"
   ]
  },
  {
   "cell_type": "code",
   "execution_count": null,
   "metadata": {},
   "outputs": [],
   "source": []
  },
  {
   "cell_type": "markdown",
   "metadata": {},
   "source": [
    "#### Missing Value"
   ]
  },
  {
   "cell_type": "code",
   "execution_count": 55,
   "metadata": {},
   "outputs": [
    {
     "data": {
      "text/html": [
       "<div>\n",
       "<style scoped>\n",
       "    .dataframe tbody tr th:only-of-type {\n",
       "        vertical-align: middle;\n",
       "    }\n",
       "\n",
       "    .dataframe tbody tr th {\n",
       "        vertical-align: top;\n",
       "    }\n",
       "\n",
       "    .dataframe thead th {\n",
       "        text-align: right;\n",
       "    }\n",
       "</style>\n",
       "<table border=\"1\" class=\"dataframe\">\n",
       "  <thead>\n",
       "    <tr style=\"text-align: right;\">\n",
       "      <th></th>\n",
       "      <th>ids</th>\n",
       "      <th>age</th>\n",
       "      <th>balance</th>\n",
       "      <th>day</th>\n",
       "      <th>duration</th>\n",
       "      <th>pdays</th>\n",
       "      <th>job</th>\n",
       "      <th>contact</th>\n",
       "      <th>marital</th>\n",
       "      <th>default</th>\n",
       "      <th>y</th>\n",
       "    </tr>\n",
       "  </thead>\n",
       "  <tbody>\n",
       "    <tr>\n",
       "      <th>11493</th>\n",
       "      <td>14352</td>\n",
       "      <td>53</td>\n",
       "      <td>-24</td>\n",
       "      <td>14</td>\n",
       "      <td>319</td>\n",
       "      <td>-1</td>\n",
       "      <td>retired</td>\n",
       "      <td>cellular</td>\n",
       "      <td>divorced</td>\n",
       "      <td>no</td>\n",
       "      <td>no</td>\n",
       "    </tr>\n",
       "    <tr>\n",
       "      <th>25034</th>\n",
       "      <td>31327</td>\n",
       "      <td>49</td>\n",
       "      <td>1807</td>\n",
       "      <td>12</td>\n",
       "      <td>229</td>\n",
       "      <td>-1</td>\n",
       "      <td>technician</td>\n",
       "      <td>cellular</td>\n",
       "      <td>divorced</td>\n",
       "      <td>no</td>\n",
       "      <td>yes</td>\n",
       "    </tr>\n",
       "    <tr>\n",
       "      <th>11682</th>\n",
       "      <td>14580</td>\n",
       "      <td>46</td>\n",
       "      <td>311</td>\n",
       "      <td>15</td>\n",
       "      <td>232</td>\n",
       "      <td>-1</td>\n",
       "      <td>services</td>\n",
       "      <td>cellular</td>\n",
       "      <td>married</td>\n",
       "      <td>no</td>\n",
       "      <td>no</td>\n",
       "    </tr>\n",
       "    <tr>\n",
       "      <th>20668</th>\n",
       "      <td>25831</td>\n",
       "      <td>55</td>\n",
       "      <td>563</td>\n",
       "      <td>19</td>\n",
       "      <td>164</td>\n",
       "      <td>-1</td>\n",
       "      <td>management</td>\n",
       "      <td>cellular</td>\n",
       "      <td>married</td>\n",
       "      <td>no</td>\n",
       "      <td>no</td>\n",
       "    </tr>\n",
       "    <tr>\n",
       "      <th>7754</th>\n",
       "      <td>9711</td>\n",
       "      <td>39</td>\n",
       "      <td>575</td>\n",
       "      <td>6</td>\n",
       "      <td>109</td>\n",
       "      <td>-1</td>\n",
       "      <td>management</td>\n",
       "      <td>unknown</td>\n",
       "      <td>married</td>\n",
       "      <td>no</td>\n",
       "      <td>no</td>\n",
       "    </tr>\n",
       "    <tr>\n",
       "      <th>...</th>\n",
       "      <td>...</td>\n",
       "      <td>...</td>\n",
       "      <td>...</td>\n",
       "      <td>...</td>\n",
       "      <td>...</td>\n",
       "      <td>...</td>\n",
       "      <td>...</td>\n",
       "      <td>...</td>\n",
       "      <td>...</td>\n",
       "      <td>...</td>\n",
       "      <td>...</td>\n",
       "    </tr>\n",
       "    <tr>\n",
       "      <th>5853</th>\n",
       "      <td>7302</td>\n",
       "      <td>51</td>\n",
       "      <td>5801</td>\n",
       "      <td>29</td>\n",
       "      <td>147</td>\n",
       "      <td>-1</td>\n",
       "      <td>services</td>\n",
       "      <td>unknown</td>\n",
       "      <td>married</td>\n",
       "      <td>no</td>\n",
       "      <td>no</td>\n",
       "    </tr>\n",
       "    <tr>\n",
       "      <th>12581</th>\n",
       "      <td>15726</td>\n",
       "      <td>32</td>\n",
       "      <td>2196</td>\n",
       "      <td>21</td>\n",
       "      <td>1156</td>\n",
       "      <td>-1</td>\n",
       "      <td>services</td>\n",
       "      <td>cellular</td>\n",
       "      <td>married</td>\n",
       "      <td>no</td>\n",
       "      <td>no</td>\n",
       "    </tr>\n",
       "    <tr>\n",
       "      <th>23298</th>\n",
       "      <td>29153</td>\n",
       "      <td>55</td>\n",
       "      <td>621</td>\n",
       "      <td>2</td>\n",
       "      <td>114</td>\n",
       "      <td>208</td>\n",
       "      <td>management</td>\n",
       "      <td>cellular</td>\n",
       "      <td>married</td>\n",
       "      <td>no</td>\n",
       "      <td>no</td>\n",
       "    </tr>\n",
       "    <tr>\n",
       "      <th>31621</th>\n",
       "      <td>39483</td>\n",
       "      <td>50</td>\n",
       "      <td>641</td>\n",
       "      <td>25</td>\n",
       "      <td>128</td>\n",
       "      <td>-1</td>\n",
       "      <td>services</td>\n",
       "      <td>cellular</td>\n",
       "      <td>divorced</td>\n",
       "      <td>no</td>\n",
       "      <td>no</td>\n",
       "    </tr>\n",
       "    <tr>\n",
       "      <th>4713</th>\n",
       "      <td>5887</td>\n",
       "      <td>48</td>\n",
       "      <td>302</td>\n",
       "      <td>26</td>\n",
       "      <td>208</td>\n",
       "      <td>-1</td>\n",
       "      <td>technician</td>\n",
       "      <td>unknown</td>\n",
       "      <td>married</td>\n",
       "      <td>no</td>\n",
       "      <td>no</td>\n",
       "    </tr>\n",
       "  </tbody>\n",
       "</table>\n",
       "<p>30743 rows × 11 columns</p>\n",
       "</div>"
      ],
      "text/plain": [
       "         ids  age  balance  day  duration  pdays         job   contact  \\\n",
       "11493  14352   53      -24   14       319     -1     retired  cellular   \n",
       "25034  31327   49     1807   12       229     -1  technician  cellular   \n",
       "11682  14580   46      311   15       232     -1    services  cellular   \n",
       "20668  25831   55      563   19       164     -1  management  cellular   \n",
       "7754    9711   39      575    6       109     -1  management   unknown   \n",
       "...      ...  ...      ...  ...       ...    ...         ...       ...   \n",
       "5853    7302   51     5801   29       147     -1    services   unknown   \n",
       "12581  15726   32     2196   21      1156     -1    services  cellular   \n",
       "23298  29153   55      621    2       114    208  management  cellular   \n",
       "31621  39483   50      641   25       128     -1    services  cellular   \n",
       "4713    5887   48      302   26       208     -1  technician   unknown   \n",
       "\n",
       "        marital default    y  \n",
       "11493  divorced      no   no  \n",
       "25034  divorced      no  yes  \n",
       "11682   married      no   no  \n",
       "20668   married      no   no  \n",
       "7754    married      no   no  \n",
       "...         ...     ...  ...  \n",
       "5853    married      no   no  \n",
       "12581   married      no   no  \n",
       "23298   married      no   no  \n",
       "31621  divorced      no   no  \n",
       "4713    married      no   no  \n",
       "\n",
       "[30743 rows x 11 columns]"
      ]
     },
     "execution_count": 55,
     "metadata": {},
     "output_type": "execute_result"
    }
   ],
   "source": [
    "data_train"
   ]
  },
  {
   "cell_type": "code",
   "execution_count": null,
   "metadata": {},
   "outputs": [],
   "source": []
  },
  {
   "cell_type": "code",
   "execution_count": 56,
   "metadata": {},
   "outputs": [
    {
     "data": {
      "text/plain": [
       "ids         0\n",
       "age         0\n",
       "balance     0\n",
       "day         0\n",
       "duration    0\n",
       "pdays       0\n",
       "job         0\n",
       "contact     0\n",
       "marital     0\n",
       "default     0\n",
       "y           0\n",
       "dtype: int64"
      ]
     },
     "execution_count": 56,
     "metadata": {},
     "output_type": "execute_result"
    }
   ],
   "source": [
    "data_train.isnull().sum()"
   ]
  },
  {
   "cell_type": "code",
   "execution_count": null,
   "metadata": {},
   "outputs": [],
   "source": []
  },
  {
   "cell_type": "markdown",
   "metadata": {},
   "source": [
    "#### Outliers"
   ]
  },
  {
   "cell_type": "code",
   "execution_count": 57,
   "metadata": {},
   "outputs": [],
   "source": [
    "## Numerical\n",
    "df_num = data_train[col_num]"
   ]
  },
  {
   "cell_type": "code",
   "execution_count": 58,
   "metadata": {},
   "outputs": [
    {
     "data": {
      "text/html": [
       "<div>\n",
       "<style scoped>\n",
       "    .dataframe tbody tr th:only-of-type {\n",
       "        vertical-align: middle;\n",
       "    }\n",
       "\n",
       "    .dataframe tbody tr th {\n",
       "        vertical-align: top;\n",
       "    }\n",
       "\n",
       "    .dataframe thead th {\n",
       "        text-align: right;\n",
       "    }\n",
       "</style>\n",
       "<table border=\"1\" class=\"dataframe\">\n",
       "  <thead>\n",
       "    <tr style=\"text-align: right;\">\n",
       "      <th></th>\n",
       "      <th>age</th>\n",
       "      <th>balance</th>\n",
       "      <th>day</th>\n",
       "      <th>duration</th>\n",
       "      <th>pdays</th>\n",
       "    </tr>\n",
       "  </thead>\n",
       "  <tbody>\n",
       "    <tr>\n",
       "      <th>count</th>\n",
       "      <td>30743.000000</td>\n",
       "      <td>30743.000000</td>\n",
       "      <td>30743.000000</td>\n",
       "      <td>30743.000000</td>\n",
       "      <td>30743.000000</td>\n",
       "    </tr>\n",
       "    <tr>\n",
       "      <th>mean</th>\n",
       "      <td>40.974758</td>\n",
       "      <td>1346.281528</td>\n",
       "      <td>15.820512</td>\n",
       "      <td>258.628338</td>\n",
       "      <td>40.335686</td>\n",
       "    </tr>\n",
       "    <tr>\n",
       "      <th>std</th>\n",
       "      <td>10.598649</td>\n",
       "      <td>3019.700987</td>\n",
       "      <td>8.315038</td>\n",
       "      <td>258.048992</td>\n",
       "      <td>100.194404</td>\n",
       "    </tr>\n",
       "    <tr>\n",
       "      <th>min</th>\n",
       "      <td>18.000000</td>\n",
       "      <td>-8019.000000</td>\n",
       "      <td>1.000000</td>\n",
       "      <td>0.000000</td>\n",
       "      <td>-1.000000</td>\n",
       "    </tr>\n",
       "    <tr>\n",
       "      <th>25%</th>\n",
       "      <td>33.000000</td>\n",
       "      <td>70.000000</td>\n",
       "      <td>8.000000</td>\n",
       "      <td>103.000000</td>\n",
       "      <td>-1.000000</td>\n",
       "    </tr>\n",
       "    <tr>\n",
       "      <th>50%</th>\n",
       "      <td>39.000000</td>\n",
       "      <td>444.000000</td>\n",
       "      <td>16.000000</td>\n",
       "      <td>181.000000</td>\n",
       "      <td>-1.000000</td>\n",
       "    </tr>\n",
       "    <tr>\n",
       "      <th>75%</th>\n",
       "      <td>48.000000</td>\n",
       "      <td>1412.000000</td>\n",
       "      <td>21.000000</td>\n",
       "      <td>318.000000</td>\n",
       "      <td>-1.000000</td>\n",
       "    </tr>\n",
       "    <tr>\n",
       "      <th>max</th>\n",
       "      <td>95.000000</td>\n",
       "      <td>102127.000000</td>\n",
       "      <td>31.000000</td>\n",
       "      <td>3881.000000</td>\n",
       "      <td>871.000000</td>\n",
       "    </tr>\n",
       "  </tbody>\n",
       "</table>\n",
       "</div>"
      ],
      "text/plain": [
       "                age        balance           day      duration         pdays\n",
       "count  30743.000000   30743.000000  30743.000000  30743.000000  30743.000000\n",
       "mean      40.974758    1346.281528     15.820512    258.628338     40.335686\n",
       "std       10.598649    3019.700987      8.315038    258.048992    100.194404\n",
       "min       18.000000   -8019.000000      1.000000      0.000000     -1.000000\n",
       "25%       33.000000      70.000000      8.000000    103.000000     -1.000000\n",
       "50%       39.000000     444.000000     16.000000    181.000000     -1.000000\n",
       "75%       48.000000    1412.000000     21.000000    318.000000     -1.000000\n",
       "max       95.000000  102127.000000     31.000000   3881.000000    871.000000"
      ]
     },
     "execution_count": 58,
     "metadata": {},
     "output_type": "execute_result"
    }
   ],
   "source": [
    "df_num.describe()"
   ]
  },
  {
   "cell_type": "code",
   "execution_count": 59,
   "metadata": {},
   "outputs": [],
   "source": [
    "## Cap the data"
   ]
  },
  {
   "cell_type": "code",
   "execution_count": 80,
   "metadata": {},
   "outputs": [
    {
     "data": {
      "text/plain": [
       "{'age': 63.0,\n",
       " 'balance': 9330.599999999999,\n",
       " 'day': 30.0,\n",
       " 'duration': 1056.0,\n",
       " 'pdays': 360.0}"
      ]
     },
     "execution_count": 80,
     "metadata": {},
     "output_type": "execute_result"
    }
   ],
   "source": [
    "df_num.quantile(0.98).to_dict()"
   ]
  },
  {
   "cell_type": "code",
   "execution_count": 60,
   "metadata": {},
   "outputs": [],
   "source": [
    "rule_cap = df_num.quantile(0.98).to_dict()\n",
    "joblib.dump(rule_cap, PATH_MODEL+'outliers_cap_rules.pkl')\n",
    "rule_cap_load = joblib.load(PATH_MODEL+'outliers_cap_rules.pkl')"
   ]
  },
  {
   "cell_type": "code",
   "execution_count": 61,
   "metadata": {},
   "outputs": [],
   "source": [
    "data_train['balance2'] = np.where(data_train['balance']<0,0,data_train['balance'])\n",
    "col_num2 = []\n",
    "\n",
    "for c2 in col_num:\n",
    "    if c2 == 'balance':\n",
    "        ck = c2+'2'\n",
    "    else:\n",
    "        ck = c2\n",
    "    max_cap = rule_cap_load[c2]\n",
    "    data_train[ck+'_cap'] = np.where(data_train[ck] >= max_cap, max_cap, data_train[ck])\n",
    "    \n",
    "    col_num2.append(ck+'_cap')"
   ]
  },
  {
   "cell_type": "code",
   "execution_count": 71,
   "metadata": {},
   "outputs": [],
   "source": [
    "## check pdays\n",
    "# df_num['pdays'].value_counts(normalize = True) --> 80% is -1\n",
    "\n",
    "data_train['is_contacted'] = (data_train['pdays'] != -1).astype(int)\n"
   ]
  },
  {
   "cell_type": "code",
   "execution_count": null,
   "metadata": {},
   "outputs": [],
   "source": []
  },
  {
   "cell_type": "code",
   "execution_count": 72,
   "metadata": {},
   "outputs": [],
   "source": [
    "## Categoric\n",
    "df_cat = data_train[col_cat]"
   ]
  },
  {
   "cell_type": "code",
   "execution_count": 74,
   "metadata": {},
   "outputs": [
    {
     "data": {
      "text/html": [
       "<div>\n",
       "<style scoped>\n",
       "    .dataframe tbody tr th:only-of-type {\n",
       "        vertical-align: middle;\n",
       "    }\n",
       "\n",
       "    .dataframe tbody tr th {\n",
       "        vertical-align: top;\n",
       "    }\n",
       "\n",
       "    .dataframe thead th {\n",
       "        text-align: right;\n",
       "    }\n",
       "</style>\n",
       "<table border=\"1\" class=\"dataframe\">\n",
       "  <thead>\n",
       "    <tr style=\"text-align: right;\">\n",
       "      <th></th>\n",
       "      <th>job</th>\n",
       "      <th>contact</th>\n",
       "      <th>marital</th>\n",
       "      <th>default</th>\n",
       "    </tr>\n",
       "  </thead>\n",
       "  <tbody>\n",
       "    <tr>\n",
       "      <th>count</th>\n",
       "      <td>30743</td>\n",
       "      <td>30743</td>\n",
       "      <td>30743</td>\n",
       "      <td>30743</td>\n",
       "    </tr>\n",
       "    <tr>\n",
       "      <th>unique</th>\n",
       "      <td>12</td>\n",
       "      <td>3</td>\n",
       "      <td>3</td>\n",
       "      <td>2</td>\n",
       "    </tr>\n",
       "    <tr>\n",
       "      <th>top</th>\n",
       "      <td>blue-collar</td>\n",
       "      <td>cellular</td>\n",
       "      <td>married</td>\n",
       "      <td>no</td>\n",
       "    </tr>\n",
       "    <tr>\n",
       "      <th>freq</th>\n",
       "      <td>6615</td>\n",
       "      <td>19897</td>\n",
       "      <td>18547</td>\n",
       "      <td>30192</td>\n",
       "    </tr>\n",
       "  </tbody>\n",
       "</table>\n",
       "</div>"
      ],
      "text/plain": [
       "                job   contact  marital default\n",
       "count         30743     30743    30743   30743\n",
       "unique           12         3        3       2\n",
       "top     blue-collar  cellular  married      no\n",
       "freq           6615     19897    18547   30192"
      ]
     },
     "execution_count": 74,
     "metadata": {},
     "output_type": "execute_result"
    }
   ],
   "source": [
    "df_cat.describe()"
   ]
  },
  {
   "cell_type": "code",
   "execution_count": 79,
   "metadata": {},
   "outputs": [
    {
     "name": "stdout",
     "output_type": "stream",
     "text": [
      "*** job ***\n",
      "blue-collar      0.215171\n",
      "management       0.206519\n",
      "technician       0.167550\n",
      "admin.           0.115408\n",
      "services         0.093290\n",
      "retired          0.049507\n",
      "self-employed    0.035683\n",
      "entrepreneur     0.034317\n",
      "housemaid        0.028299\n",
      "unemployed       0.027811\n",
      "student          0.020492\n",
      "unknown          0.005953\n",
      "Name: job, dtype: float64\n",
      "---\n",
      "*** contact ***\n",
      "cellular     0.647204\n",
      "unknown      0.287838\n",
      "telephone    0.064958\n",
      "Name: contact, dtype: float64\n",
      "---\n",
      "*** marital ***\n",
      "married     0.603292\n",
      "single      0.281462\n",
      "divorced    0.115246\n",
      "Name: marital, dtype: float64\n",
      "---\n",
      "*** default ***\n",
      "no     0.982077\n",
      "yes    0.017923\n",
      "Name: default, dtype: float64\n",
      "---\n"
     ]
    }
   ],
   "source": [
    "for c in col_cat:\n",
    "    print('***',c,'***')\n",
    "    print(df_cat[c].value_counts(normalize = True))\n",
    "    print('---')"
   ]
  },
  {
   "cell_type": "code",
   "execution_count": null,
   "metadata": {},
   "outputs": [],
   "source": []
  },
  {
   "cell_type": "code",
   "execution_count": null,
   "metadata": {},
   "outputs": [],
   "source": []
  },
  {
   "cell_type": "markdown",
   "metadata": {},
   "source": [
    "#### Features Engineering\n",
    "(it can be done on EDA too)"
   ]
  },
  {
   "cell_type": "code",
   "execution_count": null,
   "metadata": {},
   "outputs": [],
   "source": []
  },
  {
   "cell_type": "code",
   "execution_count": null,
   "metadata": {},
   "outputs": [],
   "source": []
  },
  {
   "cell_type": "code",
   "execution_count": null,
   "metadata": {},
   "outputs": [],
   "source": []
  },
  {
   "cell_type": "code",
   "execution_count": null,
   "metadata": {},
   "outputs": [],
   "source": []
  },
  {
   "cell_type": "code",
   "execution_count": null,
   "metadata": {},
   "outputs": [],
   "source": []
  },
  {
   "cell_type": "markdown",
   "metadata": {},
   "source": [
    "#### Features Selection"
   ]
  },
  {
   "cell_type": "code",
   "execution_count": null,
   "metadata": {},
   "outputs": [],
   "source": []
  },
  {
   "cell_type": "code",
   "execution_count": null,
   "metadata": {},
   "outputs": [],
   "source": []
  },
  {
   "cell_type": "code",
   "execution_count": null,
   "metadata": {},
   "outputs": [],
   "source": []
  },
  {
   "cell_type": "code",
   "execution_count": null,
   "metadata": {},
   "outputs": [],
   "source": []
  },
  {
   "cell_type": "markdown",
   "metadata": {},
   "source": [
    "## Conclusions"
   ]
  },
  {
   "cell_type": "code",
   "execution_count": null,
   "metadata": {},
   "outputs": [],
   "source": []
  },
  {
   "cell_type": "code",
   "execution_count": null,
   "metadata": {},
   "outputs": [],
   "source": []
  }
 ],
 "metadata": {
  "kernelspec": {
   "display_name": "Python 3",
   "language": "python",
   "name": "python3"
  },
  "language_info": {
   "codemirror_mode": {
    "name": "ipython",
    "version": 3
   },
   "file_extension": ".py",
   "mimetype": "text/x-python",
   "name": "python",
   "nbconvert_exporter": "python",
   "pygments_lexer": "ipython3",
   "version": "3.7.10"
  },
  "vscode": {
   "interpreter": {
    "hash": "cfaee8345a7381c4d4eb2d178d3529454f9688cb724b599027e029325603d2a6"
   }
  }
 },
 "nbformat": 4,
 "nbformat_minor": 4
}
